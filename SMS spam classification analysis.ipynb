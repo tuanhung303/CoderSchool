{
 "cells": [
  {
   "cell_type": "code",
   "execution_count": 1,
   "metadata": {
    "scrolled": false
   },
   "outputs": [
    {
     "data": {
      "text/html": [
       "<div>\n",
       "<style scoped>\n",
       "    .dataframe tbody tr th:only-of-type {\n",
       "        vertical-align: middle;\n",
       "    }\n",
       "\n",
       "    .dataframe tbody tr th {\n",
       "        vertical-align: top;\n",
       "    }\n",
       "\n",
       "    .dataframe thead th {\n",
       "        text-align: right;\n",
       "    }\n",
       "</style>\n",
       "<table border=\"1\" class=\"dataframe\">\n",
       "  <thead>\n",
       "    <tr style=\"text-align: right;\">\n",
       "      <th></th>\n",
       "      <th>label</th>\n",
       "      <th>body</th>\n",
       "      <th>label_code</th>\n",
       "    </tr>\n",
       "  </thead>\n",
       "  <tbody>\n",
       "    <tr>\n",
       "      <th>0</th>\n",
       "      <td>ham</td>\n",
       "      <td>Go until jurong point, crazy.. Available only in bugis n great world la e buffet... Cine there got amore wat...</td>\n",
       "      <td>0</td>\n",
       "    </tr>\n",
       "    <tr>\n",
       "      <th>1</th>\n",
       "      <td>ham</td>\n",
       "      <td>Ok lar... Joking wif u oni...</td>\n",
       "      <td>0</td>\n",
       "    </tr>\n",
       "    <tr>\n",
       "      <th>2</th>\n",
       "      <td>spam</td>\n",
       "      <td>Free entry in 2 a wkly comp to win FA Cup final tkts 21st May 2005. Text FA to 87121 to receive entry question(std txt rate)T&amp;C's apply 08452810075over18's</td>\n",
       "      <td>1</td>\n",
       "    </tr>\n",
       "    <tr>\n",
       "      <th>3</th>\n",
       "      <td>ham</td>\n",
       "      <td>U dun say so early hor... U c already then say...</td>\n",
       "      <td>0</td>\n",
       "    </tr>\n",
       "    <tr>\n",
       "      <th>4</th>\n",
       "      <td>ham</td>\n",
       "      <td>Nah I don't think he goes to usf, he lives around here though</td>\n",
       "      <td>0</td>\n",
       "    </tr>\n",
       "  </tbody>\n",
       "</table>\n",
       "</div>"
      ],
      "text/plain": [
       "  label  \\\n",
       "0  ham    \n",
       "1  ham    \n",
       "2  spam   \n",
       "3  ham    \n",
       "4  ham    \n",
       "\n",
       "                                                                                                                                                          body  \\\n",
       "0  Go until jurong point, crazy.. Available only in bugis n great world la e buffet... Cine there got amore wat...                                               \n",
       "1  Ok lar... Joking wif u oni...                                                                                                                                 \n",
       "2  Free entry in 2 a wkly comp to win FA Cup final tkts 21st May 2005. Text FA to 87121 to receive entry question(std txt rate)T&C's apply 08452810075over18's   \n",
       "3  U dun say so early hor... U c already then say...                                                                                                             \n",
       "4  Nah I don't think he goes to usf, he lives around here though                                                                                                 \n",
       "\n",
       "   label_code  \n",
       "0  0           \n",
       "1  0           \n",
       "2  1           \n",
       "3  0           \n",
       "4  0           "
      ]
     },
     "execution_count": 1,
     "metadata": {},
     "output_type": "execute_result"
    }
   ],
   "source": [
    "import warnings\n",
    "warnings.filterwarnings(\"ignore\", category=FutureWarning)\n",
    "\n",
    "import pandas as pd\n",
    "import numpy as np\n",
    "import string\n",
    "import nltk\n",
    "import re\n",
    "from nltk.corpus import stopwords\n",
    "stop = stopwords.words('english')\n",
    "\n",
    "import seaborn as sns\n",
    "import matplotlib.pyplot as plt    \n",
    "from matplotlib import pyplot\n",
    "from nltk.stem import PorterStemmer\n",
    "\n",
    "from sklearn.metrics import confusion_matrix\n",
    "from sklearn.ensemble import RandomForestClassifier\n",
    "from sklearn.model_selection import train_test_split\n",
    "from sklearn.metrics import precision_recall_fscore_support as score\n",
    "from sklearn.feature_extraction.text import TfidfVectorizer\n",
    "\n",
    "\n",
    "from sklearn.linear_model import LinearRegression\n",
    "from sklearn import linear_model\n",
    "from sklearn.linear_model import LogisticRegression\n",
    "from sklearn.neighbors import KNeighborsClassifier\n",
    "from sklearn.tree import DecisionTreeClassifier\n",
    "from sklearn.tree import ExtraTreeClassifier\n",
    "from sklearn import model_selection\n",
    "from sklearn.model_selection import train_test_split\n",
    "from sklearn.svm import SVC\n",
    "\n",
    "sns.set_style(\"white\")\n",
    "sns.set_style(\"ticks\")\n",
    "fontsize = 14\n",
    "figsize = (12,3)\n",
    "\n",
    "data = pd.read_csv(\"spam.csv\",encoding='latin-1')\n",
    "data = data.drop([\"Unnamed: 2\", \"Unnamed: 3\", \"Unnamed: 4\"], axis=1)\n",
    "pd.set_option('display.max_colwidth', 0) \n",
    "\n",
    "data.columns =['label','body']\n",
    "data['label_code'] = data['label'].astype('category').cat.as_ordered().cat.codes\n",
    "data.head()"
   ]
  },
  {
   "cell_type": "markdown",
   "metadata": {},
   "source": [
    "### ham/spam distribution"
   ]
  },
  {
   "cell_type": "code",
   "execution_count": 2,
   "metadata": {},
   "outputs": [
    {
     "data": {
      "text/plain": [
       "Text(0.5, 1.0, 'Number of ham and spam messages')"
      ]
     },
     "execution_count": 2,
     "metadata": {},
     "output_type": "execute_result"
    },
    {
     "data": {
      "image/png": "[encoded data removed]",
      "text/plain": [
       "<Figure size 432x288 with 1 Axes>"
      ]
     },
     "metadata": {
      "needs_background": "light"
     },
     "output_type": "display_data"
    }
   ],
   "source": [
    "sns.countplot(data.label)\n",
    "plt.xlabel('Label')\n",
    "plt.title('Number of ham and spam messages')\n"
   ]
  },
  {
   "cell_type": "markdown",
   "metadata": {},
   "source": [
    "### sample human messages"
   ]
  },
  {
   "cell_type": "code",
   "execution_count": 3,
   "metadata": {
    "scrolled": false
   },
   "outputs": [
    {
     "name": "stdout",
     "output_type": "stream",
     "text": [
      "0     Go until jurong point, crazy.. Available only in bugis n great world la e buffet... Cine there got amore wat...                                                                                     \n",
      "1     Ok lar... Joking wif u oni...                                                                                                                                                                       \n",
      "3     U dun say so early hor... U c already then say...                                                                                                                                                   \n",
      "4     Nah I don't think he goes to usf, he lives around here though                                                                                                                                       \n",
      "6     Even my brother is not like to speak with me. They treat me like aids patent.                                                                                                                       \n",
      "7     As per your request 'Melle Melle (Oru Minnaminunginte Nurungu Vettam)' has been set as your callertune for all Callers. Press *9 to copy your friends Callertune                                    \n",
      "10    I'm gonna be home soon and i don't want to talk about this stuff anymore tonight, k? I've cried enough today.                                                                                       \n",
      "13    I've been searching for the right words to thank you for this breather. I promise i wont take your help for granted and will fulfil my promise. You have been wonderful and a blessing at all times.\n",
      "14    I HAVE A DATE ON SUNDAY WITH WILL!!                                                                                                                                                                 \n",
      "16    Oh k...i'm watching here:)                                                                                                                                                                          \n",
      "Name: body, dtype: object\n"
     ]
    }
   ],
   "source": [
    "print(data[data['label']=='ham']['body'].head(10))"
   ]
  },
  {
   "cell_type": "markdown",
   "metadata": {},
   "source": [
    "### sample spam messages"
   ]
  },
  {
   "cell_type": "code",
   "execution_count": 4,
   "metadata": {
    "scrolled": true
   },
   "outputs": [
    {
     "name": "stdout",
     "output_type": "stream",
     "text": [
      "2     Free entry in 2 a wkly comp to win FA Cup final tkts 21st May 2005. Text FA to 87121 to receive entry question(std txt rate)T&C's apply 08452810075over18's                 \n",
      "5     FreeMsg Hey there darling it's been 3 week's now and no word back! I'd like some fun you up for it still? Tb ok! XxX std chgs to send, å£1.50 to rcv                        \n",
      "8     WINNER!! As a valued network customer you have been selected to receivea å£900 prize reward! To claim call 09061701461. Claim code KL341. Valid 12 hours only.              \n",
      "9     Had your mobile 11 months or more? U R entitled to Update to the latest colour mobiles with camera for Free! Call The Mobile Update Co FREE on 08002986030                  \n",
      "11    SIX chances to win CASH! From 100 to 20,000 pounds txt> CSH11 and send to 87575. Cost 150p/day, 6days, 16+ TsandCs apply Reply HL 4 info                                    \n",
      "12    URGENT! You have won a 1 week FREE membership in our å£100,000 Prize Jackpot! Txt the word: CLAIM to No: 81010 T&C www.dbuk.net LCCLTD POBOX 4403LDNW1A7RW18                \n",
      "15    XXXMobileMovieClub: To use your credit, click the WAP link in the next txt message or click here>> http://wap. xxxmobilemovieclub.com?n=QJKGIGHJJGCBL                       \n",
      "19    England v Macedonia - dont miss the goals/team news. Txt ur national team to 87077 eg ENGLAND to 87077 Try:WALES, SCOTLAND 4txt/Ì¼1.20 POBOXox36504W45WQ 16+                \n",
      "34    Thanks for your subscription to Ringtone UK your mobile will be charged å£5/month Please confirm by replying YES or NO. If you reply NO you will not be charged             \n",
      "42    07732584351 - Rodger Burns - MSG = We tried to call you re your reply to our sms for a free nokia mobile + free camcorder. Please call now 08000930705 for delivery tomorrow\n",
      "Name: body, dtype: object\n"
     ]
    }
   ],
   "source": [
    "print(data[data['label']=='spam']['body'].head(10))"
   ]
  },
  {
   "cell_type": "markdown",
   "metadata": {},
   "source": [
    "### prepare some words cleaning function"
   ]
  },
  {
   "cell_type": "markdown",
   "metadata": {},
   "source": [
    "### removing punctuation function"
   ]
  },
  {
   "cell_type": "code",
   "execution_count": 5,
   "metadata": {},
   "outputs": [],
   "source": [
    "#ps = nltk.PorterStemmer()\n",
    "stopwords= nltk.corpus.stopwords.words('english')\n",
    "\n",
    "def clean(sentence):\n",
    "    s = \"\".join(x for x in sentence if x not in string.punctuation)\n",
    "    temp = s.lower().split(' ')\n",
    "    temp2 = [x for x in temp if x not in stopwords]\n",
    "    return temp2"
   ]
  },
  {
   "cell_type": "markdown",
   "metadata": {},
   "source": [
    "### basic porter and tokenizer"
   ]
  },
  {
   "cell_type": "code",
   "execution_count": 6,
   "metadata": {},
   "outputs": [],
   "source": [
    "porter = PorterStemmer()\n",
    "def tokenizer(text):\n",
    "    token = text.split(' ')\n",
    "    return token\n",
    "\n",
    "def tokenizer_porter(text):\n",
    "    stem_token = []\n",
    "    for wrd in text.split(' '):\n",
    "        stem_token.append(porter.stem(wrd))\n",
    "    return stem_token\n",
    "vect = TfidfVectorizer(stop_words=stop, tokenizer=tokenizer_porter)"
   ]
  },
  {
   "cell_type": "markdown",
   "metadata": {},
   "source": [
    "### start training with RFC"
   ]
  },
  {
   "cell_type": "code",
   "execution_count": 7,
   "metadata": {
    "scrolled": true
   },
   "outputs": [
    {
     "name": "stderr",
     "output_type": "stream",
     "text": [
      "C:\\Users\\tuanh\\Anaconda3\\lib\\site-packages\\sklearn\\feature_extraction\\text.py:300: UserWarning: Your stop_words may be inconsistent with your preprocessing. Tokenizing the stop words generated tokens ['abov', 'ani', 'becaus', 'befor', 'doe', 'dure', 'ha', 'hi', \"it'\", 'onc', 'onli', 'ourselv', \"she'\", \"should'v\", 'themselv', 'thi', 'veri', 'wa', 'whi', \"you'r\", \"you'v\", 'yourselv'] not in stop_words.\n",
      "  'stop_words.' % sorted(inconsistent))\n"
     ]
    },
    {
     "name": "stdout",
     "output_type": "stream",
     "text": [
      "Precision : 0.978 / Recall : 0.749 / fscore : 0.848 / Accuracy: 0.966\n"
     ]
    }
   ],
   "source": [
    "vector_output = vect.fit_transform(data['body'])\n",
    "\n",
    "x_train_1, x_test_1, y_train_1, y_test_1 = train_test_split(pd.DataFrame(vector_output.toarray()),data['label'], random_state = 101)\n",
    "rf = RandomForestClassifier(n_estimators=50, max_depth=None, n_jobs=-1)\n",
    "rf_model = rf.fit(x_train_1,y_train_1)\n",
    "\n",
    "y_pred_1 = rf_model.predict(x_test_1)\n",
    "precision_1, recall_1, fscore_1, support_1 = score(y_test_1, y_pred_1, pos_label='spam', average ='binary')\n",
    "print('Precision : {} / Recall : {} / fscore : {} / Accuracy: {}'.format(round(precision_1,3),round(recall_1,3),round(fscore_1,3),round((y_pred_1==y_test_1).sum()/len(y_test_1),3)))"
   ]
  },
  {
   "cell_type": "code",
   "execution_count": 8,
   "metadata": {},
   "outputs": [
    {
     "data": {
      "image/png": "[encoded data removed]",
      "text/plain": [
       "<Figure size 432x288 with 2 Axes>"
      ]
     },
     "metadata": {
      "needs_background": "light"
     },
     "output_type": "display_data"
    }
   ],
   "source": [
    "cm_1 = confusion_matrix(y_test_1, y_pred_1)\n",
    "ax= plt.subplot()\n",
    "sns.heatmap(cm_1, annot=True, ax = ax, fmt='d'); #annot=True to annotate cells\n",
    "\n",
    "# labels, title and ticks\n",
    "ax.set_xlabel('Predicted labels'); ax.set_ylabel('True labels'); \n",
    "ax.set_title('Confusion Matrix'); \n",
    "ax.xaxis.set_ticklabels(['ham', 'spam']); ax.yaxis.set_ticklabels(['ham', 'spam']);"
   ]
  },
  {
   "cell_type": "markdown",
   "metadata": {},
   "source": [
    "## review data again\n",
    "- we actually have only 5k samples\n",
    "- there is only one input for training"
   ]
  },
  {
   "cell_type": "code",
   "execution_count": 9,
   "metadata": {
    "scrolled": false
   },
   "outputs": [
    {
     "data": {
      "text/html": [
       "<div>\n",
       "<style scoped>\n",
       "    .dataframe tbody tr th:only-of-type {\n",
       "        vertical-align: middle;\n",
       "    }\n",
       "\n",
       "    .dataframe tbody tr th {\n",
       "        vertical-align: top;\n",
       "    }\n",
       "\n",
       "    .dataframe thead th {\n",
       "        text-align: right;\n",
       "    }\n",
       "</style>\n",
       "<table border=\"1\" class=\"dataframe\">\n",
       "  <thead>\n",
       "    <tr style=\"text-align: right;\">\n",
       "      <th></th>\n",
       "      <th>label</th>\n",
       "      <th>body</th>\n",
       "      <th>label_code</th>\n",
       "    </tr>\n",
       "  </thead>\n",
       "  <tbody>\n",
       "    <tr>\n",
       "      <th>0</th>\n",
       "      <td>ham</td>\n",
       "      <td>Go until jurong point, crazy.. Available only in bugis n great world la e buffet... Cine there got amore wat...</td>\n",
       "      <td>0</td>\n",
       "    </tr>\n",
       "    <tr>\n",
       "      <th>1</th>\n",
       "      <td>ham</td>\n",
       "      <td>Ok lar... Joking wif u oni...</td>\n",
       "      <td>0</td>\n",
       "    </tr>\n",
       "    <tr>\n",
       "      <th>2</th>\n",
       "      <td>spam</td>\n",
       "      <td>Free entry in 2 a wkly comp to win FA Cup final tkts 21st May 2005. Text FA to 87121 to receive entry question(std txt rate)T&amp;C's apply 08452810075over18's</td>\n",
       "      <td>1</td>\n",
       "    </tr>\n",
       "    <tr>\n",
       "      <th>3</th>\n",
       "      <td>ham</td>\n",
       "      <td>U dun say so early hor... U c already then say...</td>\n",
       "      <td>0</td>\n",
       "    </tr>\n",
       "    <tr>\n",
       "      <th>4</th>\n",
       "      <td>ham</td>\n",
       "      <td>Nah I don't think he goes to usf, he lives around here though</td>\n",
       "      <td>0</td>\n",
       "    </tr>\n",
       "  </tbody>\n",
       "</table>\n",
       "</div>"
      ],
      "text/plain": [
       "  label  \\\n",
       "0  ham    \n",
       "1  ham    \n",
       "2  spam   \n",
       "3  ham    \n",
       "4  ham    \n",
       "\n",
       "                                                                                                                                                          body  \\\n",
       "0  Go until jurong point, crazy.. Available only in bugis n great world la e buffet... Cine there got amore wat...                                               \n",
       "1  Ok lar... Joking wif u oni...                                                                                                                                 \n",
       "2  Free entry in 2 a wkly comp to win FA Cup final tkts 21st May 2005. Text FA to 87121 to receive entry question(std txt rate)T&C's apply 08452810075over18's   \n",
       "3  U dun say so early hor... U c already then say...                                                                                                             \n",
       "4  Nah I don't think he goes to usf, he lives around here though                                                                                                 \n",
       "\n",
       "   label_code  \n",
       "0  0           \n",
       "1  0           \n",
       "2  1           \n",
       "3  0           \n",
       "4  0           "
      ]
     },
     "execution_count": 9,
     "metadata": {},
     "output_type": "execute_result"
    }
   ],
   "source": [
    "data.head()"
   ]
  },
  {
   "cell_type": "markdown",
   "metadata": {},
   "source": [
    "## create more training features"
   ]
  },
  {
   "cell_type": "markdown",
   "metadata": {},
   "source": [
    "#### message length"
   ]
  },
  {
   "cell_type": "code",
   "execution_count": 10,
   "metadata": {},
   "outputs": [],
   "source": [
    "data['len'] = data['body'].apply(lambda x : len(x) - x.count(\" \"))"
   ]
  },
  {
   "cell_type": "code",
   "execution_count": 11,
   "metadata": {
    "scrolled": true
   },
   "outputs": [
    {
     "data": {
      "image/png": "[encoded data removed]",
      "text/plain": [
       "<Figure size 648x360 with 1 Axes>"
      ]
     },
     "metadata": {
      "needs_background": "light"
     },
     "output_type": "display_data"
    }
   ],
   "source": [
    "\n",
    "%matplotlib inline\n",
    "pyplot.figure(figsize=(9,5))\n",
    "\n",
    "bins = np.linspace(0,200,num=40)\n",
    "pyplot.hist(data[data['label']=='spam']['len'],bins,alpha=0.7,label='spam', density=True)\n",
    "pyplot.hist(data[data['label']=='ham']['len'],bins,alpha =0.7,label ='ham', density=True)\n",
    "pyplot.legend(loc ='upper right')\n",
    "pyplot.show()"
   ]
  },
  {
   "cell_type": "markdown",
   "metadata": {},
   "source": [
    "### punctuation"
   ]
  },
  {
   "cell_type": "code",
   "execution_count": 12,
   "metadata": {},
   "outputs": [],
   "source": [
    "import string\n",
    "def count_punct (text):\n",
    "    count = sum([1 for x in text if x in string.punctuation])\n",
    "    pp = round(100*count/(len(text)-text.count(\" \")),3)\n",
    "    return pp\n",
    "\n",
    "data['punct'] = data['body'].apply(lambda x : count_punct(x))"
   ]
  },
  {
   "cell_type": "code",
   "execution_count": 13,
   "metadata": {
    "scrolled": true
   },
   "outputs": [
    {
     "data": {
      "text/plain": [
       "<function matplotlib.pyplot.show(*args, **kw)>"
      ]
     },
     "execution_count": 13,
     "metadata": {},
     "output_type": "execute_result"
    },
    {
     "data": {
      "image/png": "[encoded data removed]",
      "text/plain": [
       "<Figure size 648x360 with 1 Axes>"
      ]
     },
     "metadata": {
      "needs_background": "light"
     },
     "output_type": "display_data"
    }
   ],
   "source": [
    "# punctuation \n",
    "%matplotlib inline\n",
    "pyplot.figure(figsize=(9,5))\n",
    "i=4\n",
    "bins = np.linspace(0,40**(1/i),num=40)\n",
    "pyplot.hist(data[data['label']=='spam']['punct'], bins, density=True,label ='spam', alpha=0.7)\n",
    "pyplot.hist(data[data['label']=='ham']['punct'], bins, density = True, label='ham', alpha=0.7)\n",
    "pyplot.legend(loc ='upper right')\n",
    "pyplot.show"
   ]
  },
  {
   "cell_type": "markdown",
   "metadata": {},
   "source": [
    "### website link"
   ]
  },
  {
   "cell_type": "code",
   "execution_count": 14,
   "metadata": {},
   "outputs": [],
   "source": [
    "def website_count (text):\n",
    "    return len(re.findall('www|http|com|\\.co',text))\n",
    "\n",
    "data['website_count'] = data['body'].apply(lambda x : website_count(x))"
   ]
  },
  {
   "cell_type": "code",
   "execution_count": 15,
   "metadata": {},
   "outputs": [
    {
     "data": {
      "text/plain": [
       "<function matplotlib.pyplot.show(*args, **kw)>"
      ]
     },
     "execution_count": 15,
     "metadata": {},
     "output_type": "execute_result"
    },
    {
     "data": {
      "image/png": "[encoded data removed]",
      "text/plain": [
       "<Figure size 648x360 with 1 Axes>"
      ]
     },
     "metadata": {
      "needs_background": "light"
     },
     "output_type": "display_data"
    }
   ],
   "source": [
    "# website link\n",
    "pyplot.figure(figsize=(9,5))\n",
    "bins = np.linspace(0,10,num=40)\n",
    "pyplot.hist(data[data['label']=='spam']['website_count'], density = True, label ='spam',alpha=0.7)\n",
    "pyplot.hist(data[data['label']=='ham']['website_count'], density = True, label='ham',alpha=0.7)\n",
    "pyplot.legend(loc ='upper right')\n",
    "pyplot.show"
   ]
  },
  {
   "cell_type": "markdown",
   "metadata": {},
   "source": [
    "### long/short number"
   ]
  },
  {
   "cell_type": "code",
   "execution_count": 16,
   "metadata": {},
   "outputs": [],
   "source": [
    "data['long_number'] = data['body'].apply(lambda x : len(re.findall('\\d{7,}',x)))\n",
    "data['short_number'] = data['body'].apply(lambda x : len(re.findall('\\d{4,6}',x)))"
   ]
  },
  {
   "cell_type": "code",
   "execution_count": 17,
   "metadata": {},
   "outputs": [
    {
     "data": {
      "text/plain": [
       "<function matplotlib.pyplot.show(*args, **kw)>"
      ]
     },
     "execution_count": 17,
     "metadata": {},
     "output_type": "execute_result"
    },
    {
     "data": {
      "image/png": "[encoded data removed]",
      "text/plain": [
       "<Figure size 648x360 with 1 Axes>"
      ]
     },
     "metadata": {
      "needs_background": "light"
     },
     "output_type": "display_data"
    }
   ],
   "source": [
    "# long/short number\n",
    "pyplot.figure(figsize=(9,5))\n",
    "bins = np.linspace(0,10,num=40)\n",
    "pyplot.hist(data[data['label']=='spam']['long_number'], density = True,label ='spam', alpha= 0.7)\n",
    "pyplot.hist(data[data['label']=='ham']['long_number'], density = True, label='ham', alpha= 0.7)\n",
    "pyplot.legend(loc ='upper right')\n",
    "pyplot.show"
   ]
  },
  {
   "cell_type": "code",
   "execution_count": 18,
   "metadata": {
    "scrolled": false
   },
   "outputs": [
    {
     "data": {
      "text/plain": [
       "<function matplotlib.pyplot.show(*args, **kw)>"
      ]
     },
     "execution_count": 18,
     "metadata": {},
     "output_type": "execute_result"
    },
    {
     "data": {
      "image/png": "[encoded data removed]",
      "text/plain": [
       "<Figure size 504x216 with 1 Axes>"
      ]
     },
     "metadata": {
      "needs_background": "light"
     },
     "output_type": "display_data"
    }
   ],
   "source": [
    "# short number\n",
    "pyplot.figure(figsize=(7,3))\n",
    "pyplot.hist(data[data['label']=='spam']['short_number'], density = True, label ='spam', alpha=0.7)\n",
    "pyplot.hist(data[data['label']=='ham']['short_number'], density = True, label='ham', alpha=0.7)\n",
    "pyplot.legend(loc ='upper right')\n",
    "pyplot.show"
   ]
  },
  {
   "cell_type": "markdown",
   "metadata": {},
   "source": [
    "### emoticon"
   ]
  },
  {
   "cell_type": "code",
   "execution_count": null,
   "metadata": {
    "scrolled": false
   },
   "outputs": [
    {
     "data": {
      "text/plain": [
       "<function matplotlib.pyplot.show(*args, **kw)>"
      ]
     },
     "execution_count": 19,
     "metadata": {},
     "output_type": "execute_result"
    },
    {
     "data": {
      "image/png": "[encoded data removed]",
      "text/plain": [
       "<Figure size 432x288 with 1 Axes>"
      ]
     },
     "metadata": {
      "needs_background": "light"
     },
     "output_type": "display_data"
    }
   ],
   "source": [
    "data['emoticon'] = data['body'].apply(lambda x : len(re.findall('(?::|;|=)(?:-)?(?:\\)|\\(|D|P)', x)))\n",
    "# emoticon\n",
    "pyplot.hist(data[data['label']=='spam']['emoticon'], label ='spam', alpha=0.7)\n",
    "pyplot.hist(data[data['label']=='ham']['emoticon'], label='ham', alpha=0.7)\n",
    "pyplot.legend(loc ='upper right')\n",
    "pyplot.show"
   ]
  },
  {
   "cell_type": "code",
   "execution_count": null,
   "metadata": {},
   "outputs": [
    {
     "data": {
      "text/plain": [
       "<matplotlib.axes._subplots.AxesSubplot at 0x1ff2e062cc0>"
      ]
     },
     "execution_count": 20,
     "metadata": {},
     "output_type": "execute_result"
    },
    {
     "data": {
      "image/png": "[encoded data removed]",
      "text/plain": [
       "<Figure size 576x432 with 2 Axes>"
      ]
     },
     "metadata": {
      "needs_background": "light"
     },
     "output_type": "display_data"
    }
   ],
   "source": [
    "crcols = ['label_code', 'len', 'long_number', 'short_number', 'punct', 'website_count', 'emoticon']\n",
    "corrmat = data[crcols].corr()\n",
    "f, ax = plt.subplots(figsize=(8, 6))\n",
    "sns.set(font_scale=1.1)\n",
    "sns.heatmap(corrmat, annot=True, square=True, fmt='.2f', vmax=.8)"
   ]
  },
  {
   "cell_type": "markdown",
   "metadata": {},
   "source": [
    "\n",
    "## training new model with extra features"
   ]
  },
  {
   "cell_type": "code",
   "execution_count": null,
   "metadata": {},
   "outputs": [],
   "source": [
    "#declare vector output\n",
    "vector_output = vect.fit_transform(data['body'])\n",
    "#concatenate new features\n",
    "x_features = pd.concat([data['len'],data['long_number'],data['short_number'],data['punct'],\n",
    "                        data['website_count'], data['emoticon'],pd.DataFrame(vector_output.toarray())],axis=1)\n",
    "\n",
    "x_train_2, x_test_2, y_train_2, y_test_2 = train_test_split(x_features, data['label'], random_state=101)\n",
    "rf = RandomForestClassifier(n_estimators=50, max_depth=None, n_jobs=-1)\n",
    "rf_model = rf.fit(x_train_2,y_train_2)"
   ]
  },
  {
   "cell_type": "code",
   "execution_count": null,
   "metadata": {
    "scrolled": true
   },
   "outputs": [
    {
     "name": "stdout",
     "output_type": "stream",
     "text": [
      "First model - Precision : 0.978 / Recall : 0.749 / fscore : 0.848 / Accuracy: 0.966\n",
      "New model - Precision : 0.987 / Recall : 0.86 / fscore : 0.919 / Accuracy: 0.981\n"
     ]
    }
   ],
   "source": [
    "y_pred_2 = rf_model.predict(x_test_2)\n",
    "precision_2, recall_2, fscore_2, support_2 =score(y_test_2, y_pred_2, pos_label='spam', average ='binary')\n",
    "\n",
    "\n",
    "print('First model - Precision : {} / Recall : {} / fscore : {} / Accuracy: {}'.format(round(precision_1,3),round(recall_1,3),round(fscore_1,3),round((y_pred_1==y_test_1).sum()/len(y_test_1),3)))\n",
    "print('New model - Precision : {} / Recall : {} / fscore : {} / Accuracy: {}'.format(round(precision_2,3),round(recall_2,3),round(fscore_2,3),round((y_pred_2==y_test_2).sum()/len(y_test_2),3)))"
   ]
  },
  {
   "cell_type": "code",
   "execution_count": null,
   "metadata": {
    "scrolled": true
   },
   "outputs": [
    {
     "data": {
      "image/png": "[encoded data removed]",
      "text/plain": [
       "<Figure size 432x288 with 2 Axes>"
      ]
     },
     "metadata": {},
     "output_type": "display_data"
    },
    {
     "data": {
      "text/plain": [
       "<Figure size 864x360 with 0 Axes>"
      ]
     },
     "metadata": {},
     "output_type": "display_data"
    }
   ],
   "source": [
    "cm_2 = confusion_matrix(y_test_2, y_pred_2)\n",
    "#ax = plt.subplot()\n",
    "fig, (ax1, ax2) = plt.subplots(1,2)\n",
    "sns.heatmap(cm_1, annot=True, ax = ax1, fmt='d', cbar=False)\n",
    "sns.heatmap(cm_2, annot=True, ax = ax2, fmt='d', cbar=False)\n",
    "ax1.set_title('1st model'); \n",
    "ax2.set_title('new model');\n",
    "plt.figure(figsize=(12,5))\n",
    "plt.show()"
   ]
  },
  {
   "cell_type": "code",
   "execution_count": null,
   "metadata": {},
   "outputs": [
    {
     "name": "stdout",
     "output_type": "stream",
     "text": [
      "[0.949748743718593, 0.9741564967695621, 0.9712849964106246, 0.9763101220387652, 0.9784637473079684, 0.9798994974874372, 0.9806173725771715, 0.9806173725771715]\n"
     ]
    },
    {
     "data": {
      "image/png": "[encoded data removed]",
      "text/plain": [
       "<Figure size 432x288 with 1 Axes>"
      ]
     },
     "metadata": {},
     "output_type": "display_data"
    }
   ],
   "source": [
    "n = [1 ,5 ,10, 20, 50, 100, 200, 500]\n",
    "\n",
    "result = []\n",
    "from sklearn.metrics import accuracy_score\n",
    "for i in n:\n",
    "    rf = RandomForestClassifier(n_estimators=i, max_depth=None, n_jobs=-1)\n",
    "    rf_model = rf.fit(x_train_2,y_train_2)\n",
    "    predictions = rf_model.predict(x_test_2)\n",
    "    result.append(accuracy_score(y_test_2, predictions))\n",
    "# Last step let's plot n and result on a grid using plt.scatter()\n",
    "plt.scatter(n, result)\n",
    "print(result)"
   ]
  },
  {
   "cell_type": "code",
   "execution_count": null,
   "metadata": {},
   "outputs": [
    {
     "name": "stdout",
     "output_type": "stream",
     "text": [
      "First model - Precision : 0.978 / Recall : 0.749 / fscore : 0.848 / Accuracy: 0.966\n",
      "New model - Precision : 0.987 / Recall : 0.86 / fscore : 0.919 / Accuracy: 0.981\n",
      "100 trees model - Precision : 0.993 / Recall : 0.844 / fscore : 0.912 / Accuracy: 0.979\n"
     ]
    }
   ],
   "source": [
    "rf = RandomForestClassifier(n_estimators=100, max_depth=None, n_jobs=-1)\n",
    "rf_model = rf.fit(x_train_2,y_train_2)\n",
    "y_pred_3 = rf_model.predict(x_test_2)\n",
    "precision_3, recall_3, fscore_3, support_3 =score(y_test_2, y_pred_3, pos_label='spam', average ='binary')\n",
    "print('First model - Precision : {} / Recall : {} / fscore : {} / Accuracy: {}'.format(round(precision_1,3),round(recall_1,3),round(fscore_1,3),round((y_pred_1==y_test_1).sum()/len(y_test_1),3)))\n",
    "print('New model - Precision : {} / Recall : {} / fscore : {} / Accuracy: {}'.format(round(precision_2,3),round(recall_2,3),round(fscore_2,3),round((y_pred_2==y_test_2).sum()/len(y_test_2),3)))\n",
    "print('100 trees model - Precision : {} / Recall : {} / fscore : {} / Accuracy: {}'.format(round(precision_3,3),round(recall_3,3),round(fscore_3,3),round((y_pred_3==y_test_2).sum()/len(y_test_2),3)))"
   ]
  },
  {
   "cell_type": "code",
   "execution_count": null,
   "metadata": {},
   "outputs": [
    {
     "data": {
      "image/png": "[encoded data removed]",
      "text/plain": [
       "<Figure size 432x288 with 3 Axes>"
      ]
     },
     "metadata": {},
     "output_type": "display_data"
    }
   ],
   "source": [
    "cm_3 = confusion_matrix(y_test_2, y_pred_3)\n",
    "\n",
    "fig, (ax1, ax2, ax3) = plt.subplots(1,3)\n",
    "sns.heatmap(cm_1, annot=True, ax = ax1, fmt='d', cbar=False)\n",
    "sns.heatmap(cm_2, annot=True, ax = ax2, fmt='d', cbar=False)\n",
    "sns.heatmap(cm_3, annot=True, ax = ax3, fmt='d', cbar=False)\n",
    "ax1.set_title('1st model'); \n",
    "ax2.set_title('new model'); \n",
    "ax3.set_title('100 model');\n",
    "plt.show()"
   ]
  },
  {
   "cell_type": "markdown",
   "metadata": {},
   "source": [
    "### comparison with other classification methods"
   ]
  },
  {
   "cell_type": "code",
   "execution_count": null,
   "metadata": {
    "scrolled": true
   },
   "outputs": [
    {
     "name": "stdout",
     "output_type": "stream",
     "text": [
      "LR1: 0.990973 (0.006015)\n"
     ]
    }
   ],
   "source": [
    "models = []\n",
    "models.append(('LR1', LogisticRegression()))\n",
    "models.append(('DTC', DecisionTreeClassifier()))\n",
    "models.append(('RFC', RandomForestClassifier(n_estimators=100, max_depth=None, n_jobs=-1)))\n",
    "models.append(('KNN', KNeighborsClassifier(n_neighbors=20)))\n",
    "models.append(('ETC', ExtraTreeClassifier()))\n",
    "#models.append(('SVC', SVC(kernel='sigmoid', gamma=1.0)))\n",
    "\n",
    "# evaluate each model in turn\n",
    "results = []\n",
    "names = []\n",
    "\n",
    "vectorizer = TfidfVectorizer(\"english\")\n",
    "X = x_features\n",
    "y = data['label']\n",
    "for name, model in models:\n",
    "    kfold = model_selection.KFold(n_splits = 15, random_state = 7)\n",
    "    cv_results = model_selection.cross_val_score(model, X, y, cv = kfold, scoring = 'roc_auc')\n",
    "    results.append(cv_results)\n",
    "    names.append(name)\n",
    "    msg = \"%s: %f (%f)\" % (name, cv_results.mean(), cv_results.std())\n",
    "    print(msg)"
   ]
  },
  {
   "cell_type": "code",
   "execution_count": null,
   "metadata": {},
   "outputs": [],
   "source": [
    "empty_list = []\n",
    "ml_results_df = pd.DataFrame(results).T\n",
    "\n",
    "for number, name in enumerate([x[0] for x in models]):\n",
    "    ml_results_df = ml_results_df.rename(columns={number:name})\n",
    "    \n",
    "for i in ml_results_df.columns:\n",
    "    averages = ml_results_df[i].mean()\n",
    "    empty_list.append(averages)\n",
    "    averages_df = pd.DataFrame(empty_list, columns=['Score'])\n",
    "    \n",
    "ml_classifiers = [x[0] for x in models]\n",
    "averages_df.insert(loc=0, column='ML_Classifier', value=ml_classifiers)"
   ]
  },
  {
   "cell_type": "code",
   "execution_count": null,
   "metadata": {
    "scrolled": true
   },
   "outputs": [],
   "source": [
    "averages_df.groupby(['ML_Classifier']).sum().sort_values(by='Score',\n",
    "                                                         ascending=False).plot(kind='bar', width=0.85, figsize=(6,5))\n",
    "plt.ylim(0.8, 1)\n",
    "plt.xticks(fontsize=12)\n",
    "plt.yticks(fontsize=12)\n",
    "\n",
    "plt.tight_layout()\n",
    "plt.show()"
   ]
  },
  {
   "cell_type": "markdown",
   "metadata": {},
   "source": [
    "## extra visualizations"
   ]
  },
  {
   "cell_type": "markdown",
   "metadata": {},
   "source": [
    "### top spaming words"
   ]
  },
  {
   "cell_type": "code",
   "execution_count": null,
   "metadata": {},
   "outputs": [],
   "source": [
    "from wordcloud import WordCloud, STOPWORDS\n",
    "stopwords_1 = set(STOPWORDS)\n",
    "k = (' '.join(data[data['label'] == 'spam']['body']))\n",
    "wordcloud = WordCloud(width = 2500, height = 500, collocations=False, \n",
    "                      max_words=300, stopwords=stopwords_1, relative_scaling=0.2).generate(k)\n",
    "plt.figure(figsize=(15,5))\n",
    "plt.imshow(wordcloud)\n",
    "plt.axis('off')\n",
    "plt.grid(False)\n",
    "plt.tight_layout()\n",
    "plt.show()"
   ]
  },
  {
   "cell_type": "markdown",
   "metadata": {},
   "source": [
    "### top human words"
   ]
  },
  {
   "cell_type": "code",
   "execution_count": null,
   "metadata": {},
   "outputs": [],
   "source": [
    "from wordcloud import WordCloud, STOPWORDS\n",
    "stopwords_1 = set(STOPWORDS)\n",
    "k = (' '.join(data[data['label'] == 'ham']['body']))\n",
    "wordcloud = WordCloud(width = 2500, height = 500, collocations=False, \n",
    "                      max_words=300, stopwords=stopwords_1, relative_scaling=0.2).generate(k)\n",
    "plt.figure(figsize=(15,5))\n",
    "plt.imshow(wordcloud)\n",
    "plt.axis('off')\n",
    "plt.grid(False)\n",
    "plt.tight_layout()\n",
    "plt.show()"
   ]
  }
 ],
 "metadata": {
  "kernelspec": {
   "display_name": "Python 3",
   "language": "python",
   "name": "python3"
  },
  "language_info": {
   "codemirror_mode": {
    "name": "ipython",
    "version": 3
   },
   "file_extension": ".py",
   "mimetype": "text/x-python",
   "name": "python",
   "nbconvert_exporter": "python",
   "pygments_lexer": "ipython3",
   "version": "3.7.1"
  }
 },
 "nbformat": 4,
 "nbformat_minor": 2
}
